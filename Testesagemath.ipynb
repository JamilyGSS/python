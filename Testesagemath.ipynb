{
 "cells": [
  {
   "cell_type": "markdown",
   "id": "41d9472f-aa5c-4eaa-b66c-dc94888eeceb",
   "metadata": {},
   "source": [
    "# RA: 143038 - Jamily Gonçalves de Sales Souza\n",
    "## O usuário digita as coordenadas dos pontos A e B e obtém as coordenadas do ponto médio do segmento AB."
   ]
  },
  {
   "cell_type": "markdown",
   "id": "81854b8d-2c22-4946-a4f1-a8d441978104",
   "metadata": {},
   "source": [
    "Mostrar para o usuário que os valores das coordenadas devem ser inteiros."
   ]
  },
  {
   "cell_type": "code",
   "execution_count": null,
   "id": "7cae18c4-0332-4e0b-9673-17170ac56c08",
   "metadata": {},
   "outputs": [],
   "source": [
    "print ('Digite as coordenadas com valores inteiros dos pontos A e B abaixo:')"
   ]
  },
  {
   "cell_type": "markdown",
   "id": "f3708512-a648-46cd-a358-b06db24a4a48",
   "metadata": {},
   "source": [
    "Criei dois vetores: A, representando o ponto A, e B, representando o ponto B. Em A, o elemento A[0] corresponde à coordenada X e A[1] à coordenada Y do ponto A. \n",
    "Em B, o B[0] representa o X do ponto B e B[1], o Y do ponto B."
   ]
  },
  {
   "cell_type": "code",
   "execution_count": null,
   "id": "caf2d5ce-e55c-4384-9804-0f612751bc4c",
   "metadata": {},
   "outputs": [],
   "source": [
    "A = [None]*2\n",
    "B = [None]*2"
   ]
  },
  {
   "cell_type": "markdown",
   "id": "2d33b5d3-1e76-4ea4-aa9b-def52960fec8",
   "metadata": {},
   "source": [
    "O usuário vai atribuir os valores das coordenadas do ponto A."
   ]
  },
  {
   "cell_type": "code",
   "execution_count": null,
   "id": "53041d5d-d93c-491e-bb8f-a05f70f5b876",
   "metadata": {},
   "outputs": [],
   "source": [
    "A[0] = int(input('Digite a coordenada x do ponto A: ')) "
   ]
  },
  {
   "cell_type": "code",
   "execution_count": null,
   "id": "416ddb9e-1748-4d79-8c32-84216fb6ab0b",
   "metadata": {},
   "outputs": [],
   "source": [
    "A[1] = int(input('Digite a coordenada Y do ponto A: '))"
   ]
  },
  {
   "cell_type": "markdown",
   "id": "2d8abe5d-3a81-4704-aa45-432712d8330a",
   "metadata": {},
   "source": [
    "Mostrar as coordenadas do ponto A colocadas pelo usuário."
   ]
  },
  {
   "cell_type": "code",
   "execution_count": null,
   "id": "ef30025b-dbed-411c-9c1d-06273dd8c6ae",
   "metadata": {},
   "outputs": [],
   "source": [
    "print (A)"
   ]
  },
  {
   "cell_type": "markdown",
   "id": "bf85bce6-4727-43fb-ae18-44277864ee27",
   "metadata": {},
   "source": [
    "O usuário vai atribuir os valores das coordenadas do ponto B."
   ]
  },
  {
   "cell_type": "code",
   "execution_count": null,
   "id": "57e544f6-5291-47c1-bd8a-c27a3aa96718",
   "metadata": {},
   "outputs": [],
   "source": [
    "B[0] = int(input('Digite a coordenada x do ponto B: ')) "
   ]
  },
  {
   "cell_type": "code",
   "execution_count": null,
   "id": "768d83ae-fd7f-445f-b036-46528c0aece7",
   "metadata": {},
   "outputs": [],
   "source": [
    "B[1] = int(input('Digite a coordenada Y do ponto B: ')) "
   ]
  },
  {
   "cell_type": "markdown",
   "id": "5ccc2bdb-e23a-4272-8f62-eac0628afc8c",
   "metadata": {},
   "source": [
    "Mostrar as coordenadas do ponto B colocadas pelo usuário."
   ]
  },
  {
   "cell_type": "code",
   "execution_count": null,
   "id": "23e03b65-8ab0-40ed-883c-bba7d0fea927",
   "metadata": {},
   "outputs": [],
   "source": [
    "print (B)"
   ]
  },
  {
   "cell_type": "markdown",
   "id": "4b7ae3a4-e1f1-4575-a960-4a49001b215d",
   "metadata": {},
   "source": [
    "Para calcular as coordenadas do ponto médio do segmento AB, calcula-se a média de cada coordenada. Assim, para a coordenada X do ponto médio, M[0], será a média entre A[0] e B[0]. \n",
    "Da mesma forma, para a coordenada Y do ponto médio, M[1], será a média entre A[1] e B[1]. Os dois valores formam o ponto médio M."
   ]
  },
  {
   "cell_type": "code",
   "execution_count": null,
   "id": "8e37236f-53f9-4884-b85c-949b5a52dc51",
   "metadata": {},
   "outputs": [],
   "source": [
    "M = [None]*2"
   ]
  },
  {
   "cell_type": "code",
   "execution_count": null,
   "id": "7313d3dd-fe7f-44ec-8e64-403db9a4e8d8",
   "metadata": {},
   "outputs": [],
   "source": [
    "M[0] = (A[0] + B[0])/2"
   ]
  },
  {
   "cell_type": "code",
   "execution_count": null,
   "id": "cf772307-6be6-4b77-bc0e-e8f859b2089a",
   "metadata": {},
   "outputs": [],
   "source": [
    "M[1] = (A[1] + B[1])/2"
   ]
  },
  {
   "cell_type": "markdown",
   "id": "e77160f8-cbf4-4158-bd65-92ed4728ae19",
   "metadata": {},
   "source": [
    "Mostrar o valor das coordenadas do ponto médio do segmento AB para o usuário."
   ]
  },
  {
   "cell_type": "code",
   "execution_count": null,
   "id": "8428d7d9-5eed-453f-8876-8f026d949617",
   "metadata": {},
   "outputs": [],
   "source": [
    "print ('Coordenadas do ponto médio do segmento AB: ',M)"
   ]
  }
 ],
 "metadata": {
  "kernelspec": {
   "display_name": "Python 3",
   "language": "python",
   "name": "python3"
  },
  "language_info": {
   "codemirror_mode": {
    "name": "ipython",
    "version": 3
   },
   "file_extension": ".py",
   "mimetype": "text/x-python",
   "name": "python",
   "nbconvert_exporter": "python",
   "pygments_lexer": "ipython3",
   "version": "3.13.3"
  }
 },
 "nbformat": 4,
 "nbformat_minor": 5
}
